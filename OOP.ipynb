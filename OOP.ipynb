{
 "cells": [
  {
   "cell_type": "code",
   "execution_count": 1,
   "metadata": {},
   "outputs": [
    {
     "name": "stdout",
     "output_type": "stream",
     "text": [
      "HELLO\n",
      "<class 'str'>\n"
     ]
    }
   ],
   "source": [
    "string = \"hello\"\n",
    "print(string.upper())\n",
    "print(type(string))\n",
    "### everything in python are instances of classes \n",
    "### upper is a method of class string"
   ]
  },
  {
   "cell_type": "code",
   "execution_count": 2,
   "metadata": {},
   "outputs": [
    {
     "name": "stdout",
     "output_type": "stream",
     "text": [
      "<class 'function'>\n"
     ]
    }
   ],
   "source": [
    "def hello():\n",
    "    print('hello')\n",
    "print(type(hello))"
   ]
  },
  {
   "cell_type": "code",
   "execution_count": 8,
   "metadata": {},
   "outputs": [
    {
     "name": "stdout",
     "output_type": "stream",
     "text": [
      "<class '__main__.Dog'>\n"
     ]
    }
   ],
   "source": [
    "### making blueprint for any objects that are of class Dog\n",
    "class Dog:\n",
    "    def bark(self):   #Method\n",
    "        print(\"bark\")\n",
    "        \n",
    "    def lick(self):\n",
    "        return \"lick\"\n",
    "    \n",
    "    def add_one(self,x):\n",
    "        return x+1\n",
    "    \n",
    "d = Dog() #an instance of class Dog\n",
    "print(type(d))\n",
    "\n",
    "### by default the module used was main module"
   ]
  },
  {
   "cell_type": "code",
   "execution_count": 4,
   "metadata": {},
   "outputs": [
    {
     "name": "stdout",
     "output_type": "stream",
     "text": [
      "bark\n"
     ]
    }
   ],
   "source": [
    "d.bark() #using method"
   ]
  },
  {
   "cell_type": "code",
   "execution_count": 12,
   "metadata": {},
   "outputs": [
    {
     "name": "stdout",
     "output_type": "stream",
     "text": [
      "lick\n",
      "6\n",
      "<class 'str'>\n",
      "<class 'int'>\n"
     ]
    }
   ],
   "source": [
    "print(d.lick())\n",
    "print(d.add_one(5))\n",
    "print(type(d.lick()))\n",
    "print(type(d.add_one(5)))"
   ]
  },
  {
   "cell_type": "code",
   "execution_count": 14,
   "metadata": {},
   "outputs": [
    {
     "name": "stdout",
     "output_type": "stream",
     "text": [
      "Yukesh\n"
     ]
    }
   ],
   "source": [
    "class Dog:\n",
    "    def __init__(self,name): #__init__\" is a reserved method in python classes. It is known as a constructor in OOP concepts.\n",
    "                             #This method called when an object is created from the class and it allows the class to \n",
    "                             #initialize the attributes of a class.\n",
    "        self.name = name # attribute\n",
    "        print(name)\n",
    "d = Dog(\"Yukesh\")  # creating an object of class Dog will call __init__ method automatically and do the function\n",
    "\n",
    "### this is usefull when creating objects of class Dog, when an object is created , __init__ method creates all attributes \n",
    "### specific to a Dog which can be used in other methods in the class"
   ]
  },
  {
   "cell_type": "code",
   "execution_count": 15,
   "metadata": {},
   "outputs": [
    {
     "name": "stdout",
     "output_type": "stream",
     "text": [
      "Yukesh\n"
     ]
    }
   ],
   "source": [
    "print(d.name)\n",
    "#using self for attributes = u can reference them later on to call them "
   ]
  },
  {
   "cell_type": "code",
   "execution_count": 18,
   "metadata": {},
   "outputs": [
    {
     "name": "stdout",
     "output_type": "stream",
     "text": [
      "Yukesh\n"
     ]
    }
   ],
   "source": [
    "## creating methods to get name\n",
    "class Dog:\n",
    "    def __init__(self,name):\n",
    "        self.name = name\n",
    "    def get_name(self):\n",
    "        return self.name\n",
    "d= Dog(\"Yukesh\")\n",
    "print(d.get_name())"
   ]
  },
  {
   "cell_type": "code",
   "execution_count": 25,
   "metadata": {},
   "outputs": [
    {
     "name": "stdout",
     "output_type": "stream",
     "text": [
      "True\n",
      "80.0\n"
     ]
    }
   ],
   "source": [
    "## A simple program to create a class for students enrolling for a course and fiding avg grade\n",
    "class Student:\n",
    "    def __init__(self,name,age,grade):\n",
    "        self.name = name\n",
    "        self.age = age\n",
    "        self.grade = grade\n",
    "        \n",
    "    def get_grade(self):\n",
    "        return self.grade\n",
    "\n",
    "class Course:\n",
    "    def __init__(self,name,max_students):\n",
    "        self.name = name\n",
    "        self.max_students = max_students\n",
    "        self.students = []\n",
    "    \n",
    "    def add_student(self,student):\n",
    "        if len(self.students) < self.max_students:\n",
    "            self.students.append(student)\n",
    "            return True\n",
    "        else:\n",
    "            return False\n",
    "    \n",
    "    def avg_grade(self):\n",
    "        sum = 0\n",
    "        for i in self.students:\n",
    "            sum+=i.get_grade()\n",
    "        return sum/len(self.students)\n",
    "    \n",
    "s1 = Student(\"Jay\",20,90)\n",
    "s2 = Student(\"Mukesh\",10,20)\n",
    "s3 = Student(\"Pep\",20,70)\n",
    "\n",
    "c1 = Course(\"Cse\",2)\n",
    "c1.add_student(s1)\n",
    "c1.add_student(s2)\n",
    "c1.add_student(s3)\n",
    "print(c1.add_student(s3))\n",
    "print(c1.avg_grade())"
   ]
  },
  {
   "cell_type": "code",
   "execution_count": 30,
   "metadata": {},
   "outputs": [
    {
     "name": "stdout",
     "output_type": "stream",
     "text": [
      "I am unaware of what i speak \n",
      "I am Jay and i am 5 years old. My colour is Brown\n",
      "Woof\n",
      "I am Jay and i am 5 years old. My colour is Grey and my breed is Husky\n",
      "Meow\n",
      "I am Yukesh and i am 5 years old. My colour is Peach\n"
     ]
    }
   ],
   "source": [
    "###Inheritence\n",
    "\n",
    "###Parent CLass\n",
    "class Pet:\n",
    "    def __init__(self,name,age,color):\n",
    "        self.name = name\n",
    "        self.age = age\n",
    "        self.color = color\n",
    "        \n",
    "    def speak(self):\n",
    "        print(\"I am unaware of what i speak \")\n",
    "    \n",
    "    def show(self):\n",
    "        print(f\"I am {self.name} and i am {self.age} years old. My colour is {self.color}\")\n",
    "\n",
    "###Child Class\n",
    "class Dog(Pet): ## Inheriting from Pet class\n",
    "    def __init__(self,name,age,color,breed):\n",
    "        self.breed = breed\n",
    "        super().__init__(name,age,color)   ## inheriting from super class that is main class all self attributes\n",
    "    def speak(self):\n",
    "        print(\"Woof\")    ## this will be overwritten over the method in Pet class\n",
    "        \n",
    "    def show(self):\n",
    "        print(f\"I am {self.name} and i am {self.age} years old. My colour is {self.color} and my breed is {self.breed}\")\n",
    "\n",
    "###Child Class\n",
    "class Cat(Pet):\n",
    "    def __init__(self,name,age,color):\n",
    "        super().__init__(name,age,color)\n",
    "        \n",
    "    def speak(self):\n",
    "        print(\"Meow\") # overwrites Pet.speak()\n",
    "        \n",
    "p1 = Pet(\"Jay\",5,\"Brown\") #creating instance of parent class\n",
    "p1.speak()\n",
    "p1.show()\n",
    "d1 = Dog(\"Jay\",5,\"Grey\",\"Husky\")\n",
    "d1.speak()               #will overwrite parent class's method\n",
    "d1.show()                #will overwrite parent class's method\n",
    "c1 = Cat(\"Yukesh\",5,\"Peach\")\n",
    "c1.speak()               #will use parent class's method\n",
    "c1.show()                #will use parent class's method"
   ]
  },
  {
   "cell_type": "code",
   "execution_count": 31,
   "metadata": {},
   "outputs": [
    {
     "name": "stdout",
     "output_type": "stream",
     "text": [
      "this is function one\n",
      " this is function 2 \n"
     ]
    }
   ],
   "source": [
    "### SINGLE INHERITENCE\n",
    "### When a child class inherits only a single parent class.\n",
    "class Parent:\n",
    "     def func1(self):\n",
    "          print(\"this is function one\")\n",
    "class Child(Parent):\n",
    "     def func2(self):\n",
    "          print(\" this is function 2 \")\n",
    "ob = Child()\n",
    "ob.func1()\n",
    "ob.func2()"
   ]
  },
  {
   "cell_type": "code",
   "execution_count": 44,
   "metadata": {},
   "outputs": [
    {
     "name": "stdout",
     "output_type": "stream",
     "text": [
      "Father : RAM\n",
      "Mother : SITA\n"
     ]
    }
   ],
   "source": [
    "### Multiple Inheritance\n",
    "### When a child class inherits from more than one parent class.\n",
    "# Base class1 \n",
    "class Mother: \n",
    "    mothername = \"\" \n",
    "    def mother(self): \n",
    "        print(self.mothername) \n",
    "  \n",
    "# Base class2 \n",
    "class Father: \n",
    "    fathername = \"\" \n",
    "    def father(self): \n",
    "        print(self.fathername) \n",
    "  \n",
    "# Derived class \n",
    "class Son(Mother, Father): \n",
    "    def parents(self): \n",
    "        print(\"Father :\", self.fathername) \n",
    "        print(\"Mother :\", self.mothername) \n",
    "  \n",
    "# Driver's code \n",
    "s1 = Son() \n",
    "s1.fathername = \"RAM\"\n",
    "s1.mothername = \"SITA\"\n",
    "s1.parents() "
   ]
  },
  {
   "cell_type": "code",
   "execution_count": 45,
   "metadata": {},
   "outputs": [
    {
     "name": "stdout",
     "output_type": "stream",
     "text": [
      "GrandFather : Srinivas\n",
      "Father : Ankush\n"
     ]
    }
   ],
   "source": [
    "### Multilevel Inheritance\n",
    "### When a child class becomes a parent class for another child class.\n",
    "# Base class \n",
    "class Grandfather: \n",
    "    grandfathername =\"\"  \n",
    "    def grandfather(self): \n",
    "        print(self.grandfathername) \n",
    "  \n",
    "# Intermediate class \n",
    "class Father(Grandfather): \n",
    "    fathername = \"\" \n",
    "    def father(self): \n",
    "        print(self.fathername) \n",
    "  \n",
    "# Derived class \n",
    "class Son(Father): \n",
    "    def parent(self): \n",
    "        print(\"GrandFather :\", self.grandfathername) \n",
    "        print(\"Father :\", self.fathername) \n",
    "  \n",
    "# Driver's code \n",
    "s1 = Son() \n",
    "s1.grandfathername = \"Srinivas\"\n",
    "s1.fathername = \"Ankush\"\n",
    "s1.parent() "
   ]
  },
  {
   "cell_type": "code",
   "execution_count": 46,
   "metadata": {},
   "outputs": [
    {
     "name": "stdout",
     "output_type": "stream",
     "text": [
      "This function is in parent class.\n",
      "This function is in child 1.\n",
      "This function is in parent class.\n",
      "This function is in child 2.\n"
     ]
    }
   ],
   "source": [
    "### Hierarchical Inheritance\n",
    "### When more than one derived classes are created from a single base this type of inheritence is called hierarchical inheritance. \n",
    "class Parent: \n",
    "      def func1(self): \n",
    "          print(\"This function is in parent class.\") \n",
    "  \n",
    "# Derived class1 \n",
    "class Child1(Parent): \n",
    "      def func2(self): \n",
    "          print(\"This function is in child 1.\") \n",
    "  \n",
    "# Derivied class2 \n",
    "class Child2(Parent): \n",
    "      def func3(self): \n",
    "          print(\"This function is in child 2.\") \n",
    "   \n",
    "# Driver's code \n",
    "object1 = Child1() \n",
    "object2 = Child2() \n",
    "object1.func1() \n",
    "object1.func2() \n",
    "object2.func1() \n",
    "object2.func3() "
   ]
  },
  {
   "cell_type": "code",
   "execution_count": 50,
   "metadata": {},
   "outputs": [
    {
     "name": "stdout",
     "output_type": "stream",
     "text": [
      "This function is in school.\n",
      "This function is in student 1. \n"
     ]
    }
   ],
   "source": [
    "### Hybrid Inheritance\n",
    "### Hybrid inheritance involves multiple inheritance taking place in a single program.\n",
    "class School: \n",
    "     def func1(self): \n",
    "         print(\"This function is in school.\") \n",
    "   \n",
    "class Student1(School): \n",
    "     def func2(self): \n",
    "         print(\"This function is in student 1. \") \n",
    "   \n",
    "class Student2(School): \n",
    "     def func3(self): \n",
    "         print(\"This function is in student 2.\") \n",
    "   \n",
    "class Student3(Student1, School): \n",
    "     def func4(self): \n",
    "         print(\"This function is in student 3.\") \n",
    "   \n",
    "# Driver's code \n",
    "object = Student3() \n",
    "object.func1() \n",
    "object.func2() "
   ]
  },
  {
   "cell_type": "code",
   "execution_count": 51,
   "metadata": {},
   "outputs": [
    {
     "ename": "AttributeError",
     "evalue": "'D' object has no attribute 'd'",
     "output_type": "error",
     "traceback": [
      "\u001b[1;31m---------------------------------------------------------------------------\u001b[0m",
      "\u001b[1;31mAttributeError\u001b[0m                            Traceback (most recent call last)",
      "\u001b[1;32m<ipython-input-51-7cd2a892f1a9>\u001b[0m in \u001b[0;36m<module>\u001b[1;34m\u001b[0m\n\u001b[0;32m     15\u001b[0m \u001b[1;33m\u001b[0m\u001b[0m\n\u001b[0;32m     16\u001b[0m \u001b[1;31m# produces an error as d is private instance variable\u001b[0m\u001b[1;33m\u001b[0m\u001b[1;33m\u001b[0m\u001b[1;33m\u001b[0m\u001b[0m\n\u001b[1;32m---> 17\u001b[1;33m \u001b[0mprint\u001b[0m\u001b[1;33m(\u001b[0m\u001b[0mobject1\u001b[0m\u001b[1;33m.\u001b[0m\u001b[0md\u001b[0m\u001b[1;33m)\u001b[0m\u001b[1;33m\u001b[0m\u001b[1;33m\u001b[0m\u001b[0m\n\u001b[0m",
      "\u001b[1;31mAttributeError\u001b[0m: 'D' object has no attribute 'd'"
     ]
    }
   ],
   "source": [
    "### PRIVATE MEMBERS \n",
    "# Python program to demonstrate private members \n",
    "# of the parent class \n",
    "class C: \n",
    "       def __init__(self): \n",
    "              self.c = 21\n",
    "  \n",
    "              # d is private instance variable  \n",
    "              self.__d = 42    \n",
    "class D(C): \n",
    "       def __init__(self): \n",
    "              self.e = 84\n",
    "              C.__init__(self) \n",
    "object1 = D() \n",
    "  \n",
    "# produces an error as d is private instance variable \n",
    "print(object1.d)  "
   ]
  },
  {
   "cell_type": "code",
   "execution_count": 53,
   "metadata": {},
   "outputs": [
    {
     "name": "stdout",
     "output_type": "stream",
     "text": [
      "0\n",
      "0\n"
     ]
    }
   ],
   "source": [
    "### CLASS ATTRIBUTES\n",
    "class Person:\n",
    "    number_of_people = 0 ## its a class attr since it doesn't use self or it's not under a method of a class\n",
    "    def __init__(self,name):\n",
    "        self.name = name\n",
    "p1 = Person(\"Jay\")\n",
    "print(Person.number_of_people)\n",
    "print(p1.number_of_people)"
   ]
  },
  {
   "cell_type": "code",
   "execution_count": 54,
   "metadata": {},
   "outputs": [
    {
     "name": "stdout",
     "output_type": "stream",
     "text": [
      "1\n",
      "2\n"
     ]
    }
   ],
   "source": [
    "class Person:\n",
    "    number_of_people = 0 ## its a class attr since it doesn't use self or it's not under a method of a class\n",
    "    def __init__(self,name):\n",
    "        self.name = name\n",
    "        Person.number_of_people += 1\n",
    "p1 = Person(\"Jay\")\n",
    "print(Person.number_of_people)\n",
    "p2 = Person(\"Mukesh\")\n",
    "print(Person.number_of_people)"
   ]
  },
  {
   "cell_type": "code",
   "execution_count": 59,
   "metadata": {},
   "outputs": [
    {
     "name": "stdout",
     "output_type": "stream",
     "text": [
      "2\n"
     ]
    }
   ],
   "source": [
    "### CLASS METHODS\n",
    "class Person:\n",
    "    number_of_people = 0 \n",
    "    def __init__(self,name):\n",
    "        self.name = name\n",
    "        Person.add_person()      \n",
    "        \n",
    "    @classmethod\n",
    "    def number_of_people_(cls):   #only access class attributes\n",
    "        return cls.number_of_people\n",
    "    @classmethod\n",
    "    def add_person(cls):\n",
    "        cls.number_of_people +=1\n",
    "        \n",
    "p1 = Person(\"jay\")\n",
    "p2 = Person(\"Muk\")\n",
    "print(Person.number_of_people_())"
   ]
  },
  {
   "cell_type": "code",
   "execution_count": 61,
   "metadata": {},
   "outputs": [
    {
     "name": "stdout",
     "output_type": "stream",
     "text": [
      "15\n",
      "20\n"
     ]
    }
   ],
   "source": [
    "### STATIC METHOD\n",
    "### A function inside the class which can be called upon anytime even if an object of that class doesn't exists\n",
    "\n",
    "class Math:\n",
    "    @staticmethod\n",
    "    def add5(x):\n",
    "        return x+5\n",
    "    @staticmethod\n",
    "    def add10(x):\n",
    "        return x+10\n",
    "\n",
    "print(Math.add5(10))\n",
    "print(Math.add10(10))\n",
    "            "
   ]
  },
  {
   "cell_type": "code",
   "execution_count": null,
   "metadata": {},
   "outputs": [],
   "source": []
  }
 ],
 "metadata": {
  "kernelspec": {
   "display_name": "Python 3",
   "language": "python",
   "name": "python3"
  },
  "language_info": {
   "codemirror_mode": {
    "name": "ipython",
    "version": 3
   },
   "file_extension": ".py",
   "mimetype": "text/x-python",
   "name": "python",
   "nbconvert_exporter": "python",
   "pygments_lexer": "ipython3",
   "version": "3.7.6"
  }
 },
 "nbformat": 4,
 "nbformat_minor": 4
}
